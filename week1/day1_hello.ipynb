{
  "nbformat": 4,
  "nbformat_minor": 0,
  "metadata": {
    "colab": {
      "provenance": [],
      "authorship_tag": "ABX9TyP3NW+jmReEEFQiFQhduUnH",
      "include_colab_link": true
    },
    "kernelspec": {
      "name": "python3",
      "display_name": "Python 3"
    },
    "language_info": {
      "name": "python"
    }
  },
  "cells": [
    {
      "cell_type": "markdown",
      "metadata": {
        "id": "view-in-github",
        "colab_type": "text"
      },
      "source": [
        "<a href=\"https://colab.research.google.com/github/reckonindepth/AI-Business-Foundations/blob/main/week1/day1_hello.ipynb\" target=\"_parent\"><img src=\"https://colab.research.google.com/assets/colab-badge.svg\" alt=\"Open In Colab\"/></a>"
      ]
    },
    {
      "cell_type": "code",
      "execution_count": 1,
      "metadata": {
        "colab": {
          "base_uri": "https://localhost:8080/"
        },
        "id": "z7gfTcG1su9O",
        "outputId": "8704c51e-2c46-44dc-da25-d19a8998c17d"
      },
      "outputs": [
        {
          "output_type": "stream",
          "name": "stdout",
          "text": [
            "Hello AI Business Leader\n",
            "Python version: 3.11.13\n"
          ]
        }
      ],
      "source": [
        "print(\"Hello AI Business Leader\")\n",
        "import platform\n",
        "print(\"Python version:\", platform.python_version())"
      ]
    }
  ]
}